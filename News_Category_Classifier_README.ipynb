{
 "cells": [
  {
   "cell_type": "markdown",
   "id": "94991e4f-f73e-4ed0-9fda-0ed79044f70d",
   "metadata": {},
   "source": [
    "# News Catogory Classifier\n",
    "\n",
    "This project builds a machine learning model to classify news articles into categories such as:\n",
    "\n",
    "- **Business**\n",
    "- **Technology**\n",
    "- **Sports**\n",
    "- **Education**\n",
    "\n",
    "We use two datasets:\n",
    "- **train.csv**: for training the model\n",
    "- **test.csv**: for evaluating the model's performance\n",
    "\n",
    "The model is trained on the 'headlines' column and predicts the 'category' of each news article."
   ]
  },
  {
   "cell_type": "markdown",
   "id": "564d372d-84a9-4e35-a4b8-85884ead0da2",
   "metadata": {},
   "source": [
    "#### Step 1: Install & Import Required Libraries"
   ]
  },
  {
   "cell_type": "markdown",
   "id": "94ae1f90-f002-4594-b981-d78909ff7483",
   "metadata": {},
   "source": [
    "The resources we'll be using:\n",
    "- **pandas** for data handling\n",
    "- **nltk** for stopword removal\n",
    "- **scikit-learn** for vectorization, model training and evaluation"
   ]
  },
  {
   "cell_type": "markdown",
   "id": "af7f2184-f0f6-4b74-ac4e-99b93a3c6880",
   "metadata": {},
   "source": [
    "#### Step 2: Download Stopwords\n",
    "\n",
    "We use NLTK's list of common english stopwords to remove non-imformative words from the headlines."
   ]
  },
  {
   "cell_type": "markdown",
   "id": "973f32c2-f839-44f7-b634-9f5432f25b01",
   "metadata": {},
   "source": [
    "#### Step 3: Define Text Cleaning Function"
   ]
  },
  {
   "cell_type": "markdown",
   "id": "f723a07f-f07a-4ee9-9352-b2534f46027c",
   "metadata": {},
   "source": [
    "In this function we will:\n",
    "- Convert text to lowercase\n",
    "- Remove punctuation\n",
    "- Remove stopwords"
   ]
  },
  {
   "cell_type": "markdown",
   "id": "b1520590-38f6-47f6-b5db-14f56aecd263",
   "metadata": {},
   "source": [
    "#### Step 4: Load the Train and Test Datasets"
   ]
  },
  {
   "cell_type": "markdown",
   "id": "60c447ec-e2f6-4fc3-8e35-e10ecb8aa5c9",
   "metadata": {},
   "source": [
    "We load the csv files containing the labeled headlines and categories."
   ]
  },
  {
   "cell_type": "markdown",
   "id": "da6ce00d-cc8c-4ddb-99da-7a45c28be382",
   "metadata": {},
   "source": [
    "#### Step 5: Clean the Text Data"
   ]
  },
  {
   "cell_type": "markdown",
   "id": "7727e1c1-8fe2-41c2-8443-b806fd011ea3",
   "metadata": {},
   "source": [
    "We apply the text cleaning function to both train and test datasets using the **headlines** column."
   ]
  },
  {
   "cell_type": "markdown",
   "id": "d8d7e1bc-4af5-4344-8e02-bd28c32317d8",
   "metadata": {},
   "source": [
    "#### Step 6: Prepare Inputs and Targets"
   ]
  },
  {
   "cell_type": "markdown",
   "id": "95668a86-fad1-4d0b-a17b-f64d4cedbf99",
   "metadata": {},
   "source": [
    "We extract:\n",
    "- **X_train**, **y_train** from the cleaned train.csv\n",
    "- **X_train**, **y_train** from the cleaned test.csv"
   ]
  },
  {
   "cell_type": "markdown",
   "id": "8325ff2e-d2cc-4617-b290-ecec92bf1572",
   "metadata": {},
   "source": [
    "#### Step 7: Convert Text to TF-IDF Vectors"
   ]
  },
  {
   "cell_type": "markdown",
   "id": "3e6e77cd-aa2f-4380-95c1-4c0ef3f144ca",
   "metadata": {},
   "source": [
    "TF-IDF helps transform text into numeric features suitable for model training"
   ]
  },
  {
   "cell_type": "markdown",
   "id": "e9d93d26-d09e-42dc-94a6-fba7930c9817",
   "metadata": {},
   "source": [
    "#### Step 8: Train the Logistic Regression Classifier"
   ]
  },
  {
   "cell_type": "markdown",
   "id": "90182602-94ed-4b5c-a289-42459c8d34c8",
   "metadata": {},
   "source": [
    "We used a simple and effective baseline model: Logistic Regression."
   ]
  },
  {
   "cell_type": "markdown",
   "id": "4a870996-7da9-4219-971a-0a19110e1f90",
   "metadata": {},
   "source": [
    "#### Step 9: Predict on Test Data"
   ]
  },
  {
   "cell_type": "markdown",
   "id": "d5d9e166-5d39-4d5f-afee-cc33adc4fbce",
   "metadata": {},
   "source": [
    "The trained model is used to predict categories for the unseen test dataset."
   ]
  },
  {
   "cell_type": "markdown",
   "id": "ce38ae3d-7e56-4b7a-8b9f-6275df106482",
   "metadata": {},
   "source": [
    "#### Step 10: Evaluate Model with Classification Report"
   ]
  },
  {
   "cell_type": "markdown",
   "id": "e0b53d3b-eb1f-4021-b32b-898fa0a4cf65",
   "metadata": {},
   "source": [
    "We use precision, recall,F1-score, and accuracy to evaluate how well the model performs accross all categories."
   ]
  },
  {
   "cell_type": "markdown",
   "id": "6e7e4bad-f9bf-4649-8484-635ad5755681",
   "metadata": {},
   "source": [
    "#### Step 11: Interactive Classifier"
   ]
  },
  {
   "cell_type": "markdown",
   "id": "16425c12-98f8-40e1-ad05-293db31d46e0",
   "metadata": {},
   "source": [
    "This step allows you to enter your own text(headline) and see the predicted category in real time"
   ]
  }
 ],
 "metadata": {
  "kernelspec": {
   "display_name": "Python 3 (ipykernel)",
   "language": "python",
   "name": "python3"
  },
  "language_info": {
   "codemirror_mode": {
    "name": "ipython",
    "version": 3
   },
   "file_extension": ".py",
   "mimetype": "text/x-python",
   "name": "python",
   "nbconvert_exporter": "python",
   "pygments_lexer": "ipython3",
   "version": "3.12.7"
  }
 },
 "nbformat": 4,
 "nbformat_minor": 5
}
