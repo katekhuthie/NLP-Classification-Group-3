{
 "cells": [
  {
   "cell_type": "markdown",
   "id": "b460a8f8-a277-4fdd-8eca-18251a50e48a",
   "metadata": {},
   "source": [
    "# **README - News Article Classification Project**"
   ]
  },
  {
   "cell_type": "markdown",
   "id": "7ff6ac43-8602-4985-ac78-01e77fc4bd99",
   "metadata": {},
   "source": [
    "### **Project Overview**"
   ]
  },
  {
   "cell_type": "markdown",
   "id": "a31808fb-2888-4adc-96d2-1d8fa06e25a0",
   "metadata": {},
   "source": [
    "This project analyzes a dataset of news articles spanning domains such as **Business**,**Technology**,**Sports**,**Education** and **Entertainment**.\n",
    "The goal is to build a **Classification Model** capable of predicting the category of unseen articles."
   ]
  },
  {
   "cell_type": "markdown",
   "id": "70d6f5fc-1ec8-40b0-bc89-6fa0d9326f3e",
   "metadata": {},
   "source": [
    "### **Table of Contents**"
   ]
  },
  {
   "cell_type": "markdown",
   "id": "eece0571-868c-4160-a485-f694098e1453",
   "metadata": {},
   "source": [
    "1. [Introduction](#introduction)\n",
    "2. [Dataset Description](#dataset-description)\n",
    "3. [Data Preprocessing](#data-preprocessing)\n",
    "4. [Exploratory Data Analysis](#exploratory-data-analysis)\n",
    "5. [Modeling Approach](#modeling-approach)\n",
    "6. [Evaluation](#evaluation)\n",
    "7. [Conclusion](#conclusion)"
   ]
  },
  {
   "cell_type": "markdown",
   "id": "73bfc90e-6f8b-4023-832b-7df2e675d982",
   "metadata": {},
   "source": [
    "### <a name=\"introduction\"></a> **Introduction**"
   ]
  },
  {
   "cell_type": "markdown",
   "id": "71bb7b06-6ffa-4dbb-94e3-77241f11adbc",
   "metadata": {},
   "source": [
    "The dataset comprises labeled news articles with their corresponding categories. \n",
    "The classification task requirws transforming text data into numerical features and training supervised machine learning models."
   ]
  },
  {
   "cell_type": "markdown",
   "id": "97cbbcb9-82e2-45ab-ba2b-d6823c3780cc",
   "metadata": {},
   "source": [
    "### <a name=\"dataset-description\"></a> **Dataset Description**"
   ]
  },
  {
   "cell_type": "markdown",
   "id": "b1c18125-e5eb-4ad8-a9da-0046c1b17fca",
   "metadata": {},
   "source": [
    "- **Fomat:** CSV files (training and testing sets)\n",
    "- **Columns**\n",
    "  - `text`: The content of the article\n",
    "  - `category`: The article;s label\n",
    "- **Preprocessing:**\n",
    "  - Handling missing values\n",
    "  - Encoding categorical labels to numerical codes\n"
   ]
  },
  {
   "cell_type": "markdown",
   "id": "18921ae1-968d-429b-ae34-cf26c2eb828e",
   "metadata": {},
   "source": [
    "### <a name=\"data-preprocessing\"></a> **Data Preprocessing**"
   ]
  },
  {
   "cell_type": "markdown",
   "id": "437831a9-ddf8-481e-9343-581478275ce4",
   "metadata": {},
   "source": [
    "Steps included:\n",
    "- Data inspection and cleaning\n",
    "- Text normalization (lowercasing, removing punctuation)\n",
    "- Tokenization and vectorization\n",
    "- Topic clustering using **K-Means**\n",
    "- Label encoding"
   ]
  },
  {
   "cell_type": "markdown",
   "id": "78e5ac60-39bd-477e-a6c6-17cd8ad451e1",
   "metadata": {},
   "source": [
    "### <a name=\"exploratory-data-analysis\"></a>**Exploratory Data Analysis**"
   ]
  },
  {
   "cell_type": "markdown",
   "id": "59118b1a-a237-4108-a15d-d96fb707fcfa",
   "metadata": {},
   "source": [
    "Performed:\n",
    "- Data distribution visualization by category\n",
    "- Word frequency analysis\n",
    "- Topic clustering for preliminary grouping\n"
   ]
  },
  {
   "cell_type": "markdown",
   "id": "ef322f97-f842-4b76-a30b-32e2982a4ce8",
   "metadata": {},
   "source": [
    "### <a name=\"modeling-approach\"></a> **Modeling Approach**"
   ]
  },
  {
   "cell_type": "markdown",
   "id": "3141d44d-86fe-4aa9-9797-aeda716b31be",
   "metadata": {},
   "source": [
    "Trained classifications models including:\n",
    "- Logistic Regression\n",
    "- Naive Bayes\n",
    "- Support Vector Machines\n",
    "- Random forests\n",
    "\n",
    "The models were evaluated using **accuracy**,**precision**,**recall** and **F1 score**"
   ]
  },
  {
   "cell_type": "markdown",
   "id": "2fde5249-13cc-4b75-a0eb-29480095ed63",
   "metadata": {},
   "source": [
    "### <a name=\"evaluation\"></a> **Evaluation**"
   ]
  },
  {
   "cell_type": "markdown",
   "id": "88e7f065-f471-4878-bd3a-6358a2351f51",
   "metadata": {},
   "source": [
    "Performance was measured on the test set. The best performing model achieved strong classification accuracy categories."
   ]
  },
  {
   "cell_type": "markdown",
   "id": "50218035-4211-4944-b8e2-6d5bf65756ab",
   "metadata": {},
   "source": [
    "### <a name=\"conclusion\"></a> **Conclusion**"
   ]
  },
  {
   "cell_type": "markdown",
   "id": "149b40c7-5076-4b9c-be2d-a6779efc5b4e",
   "metadata": {},
   "source": [
    "This project demonstrates the application of text classification techniques to categorize news articles effectively. Potential extensions include:\n",
    "- Incorporating deep learning models (e.g. LSTM,BERT)\n",
    "- Hyperparameter optimization\n",
    "- Further feature engineering"
   ]
  },
  {
   "cell_type": "markdown",
   "id": "4670d118-e5a4-45ff-8b68-4f83b5be6fa6",
   "metadata": {},
   "source": [
    "### **How to Run**"
   ]
  },
  {
   "cell_type": "markdown",
   "id": "a4b767c0-b1a8-4806-b19f-46ea23dd4747",
   "metadata": {},
   "source": [
    "1. Install required libraries:\n",
    "     - pip install\n",
    "       - pandas\n",
    "       - numpy\n",
    "       - scikit-learn\n",
    "       - matplotlib\n",
    "       - nltk\n",
    "\n",
    "2. Run the notebook step by step.\n",
    "3. Adjust file paths to point to your local CSV files if needed"
   ]
  }
 ],
 "metadata": {
  "kernelspec": {
   "display_name": "Python 3 (ipykernel)",
   "language": "python",
   "name": "python3"
  },
  "language_info": {
   "codemirror_mode": {
    "name": "ipython",
    "version": 3
   },
   "file_extension": ".py",
   "mimetype": "text/x-python",
   "name": "python",
   "nbconvert_exporter": "python",
   "pygments_lexer": "ipython3",
   "version": "3.12.7"
  }
 },
 "nbformat": 4,
 "nbformat_minor": 5
}
